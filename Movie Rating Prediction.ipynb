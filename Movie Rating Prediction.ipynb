{
 "cells": [
  {
   "cell_type": "markdown",
   "id": "916b04a6",
   "metadata": {},
   "source": [
    "# ▶TASK-2 : MOVIE RATING PREDICTION\n",
    "\n",
    "Author: Shaik Nagoor Basha\n",
    "\n",
    "Batch: September\n",
    "\n",
    "Domain: Data Science"
   ]
  },
  {
   "cell_type": "code",
   "execution_count": 1,
   "id": "736b9fe0",
   "metadata": {},
   "outputs": [
    {
     "name": "stdout",
     "output_type": "stream",
     "text": [
      "Defaulting to user installation because normal site-packages is not writeable\n",
      "Requirement already satisfied: opendatasets in c:\\users\\nagoo\\appdata\\roaming\\python\\python311\\site-packages (0.1.22)\n",
      "Requirement already satisfied: tqdm in c:\\programdata\\anaconda\\lib\\site-packages (from opendatasets) (4.65.0)\n",
      "Requirement already satisfied: kaggle in c:\\users\\nagoo\\appdata\\roaming\\python\\python311\\site-packages (from opendatasets) (1.5.16)\n",
      "Requirement already satisfied: click in c:\\programdata\\anaconda\\lib\\site-packages (from opendatasets) (8.0.4)\n",
      "Requirement already satisfied: colorama in c:\\programdata\\anaconda\\lib\\site-packages (from click->opendatasets) (0.4.6)\n",
      "Requirement already satisfied: six>=1.10 in c:\\programdata\\anaconda\\lib\\site-packages (from kaggle->opendatasets) (1.16.0)\n",
      "Requirement already satisfied: certifi in c:\\programdata\\anaconda\\lib\\site-packages (from kaggle->opendatasets) (2023.7.22)\n",
      "Requirement already satisfied: python-dateutil in c:\\programdata\\anaconda\\lib\\site-packages (from kaggle->opendatasets) (2.8.2)\n",
      "Requirement already satisfied: requests in c:\\programdata\\anaconda\\lib\\site-packages (from kaggle->opendatasets) (2.31.0)\n",
      "Requirement already satisfied: python-slugify in c:\\programdata\\anaconda\\lib\\site-packages (from kaggle->opendatasets) (5.0.2)\n",
      "Requirement already satisfied: urllib3 in c:\\programdata\\anaconda\\lib\\site-packages (from kaggle->opendatasets) (1.26.16)\n",
      "Requirement already satisfied: bleach in c:\\programdata\\anaconda\\lib\\site-packages (from kaggle->opendatasets) (4.1.0)\n",
      "Requirement already satisfied: packaging in c:\\programdata\\anaconda\\lib\\site-packages (from bleach->kaggle->opendatasets) (23.0)\n",
      "Requirement already satisfied: webencodings in c:\\programdata\\anaconda\\lib\\site-packages (from bleach->kaggle->opendatasets) (0.5.1)\n",
      "Requirement already satisfied: text-unidecode>=1.3 in c:\\programdata\\anaconda\\lib\\site-packages (from python-slugify->kaggle->opendatasets) (1.3)\n",
      "Requirement already satisfied: charset-normalizer<4,>=2 in c:\\programdata\\anaconda\\lib\\site-packages (from requests->kaggle->opendatasets) (2.0.4)\n",
      "Requirement already satisfied: idna<4,>=2.5 in c:\\programdata\\anaconda\\lib\\site-packages (from requests->kaggle->opendatasets) (3.4)\n"
     ]
    }
   ],
   "source": [
    "!pip install opendatasets"
   ]
  },
  {
   "cell_type": "code",
   "execution_count": 2,
   "id": "c72bc993",
   "metadata": {},
   "outputs": [],
   "source": [
    "import opendatasets as od"
   ]
  },
  {
   "cell_type": "code",
   "execution_count": 3,
   "id": "6ec49a8e",
   "metadata": {},
   "outputs": [],
   "source": [
    "dataset = 'https://www.kaggle.com/datasets/sherinclaudia/movielens'"
   ]
  },
  {
   "cell_type": "code",
   "execution_count": 4,
   "id": "2ac6634d",
   "metadata": {},
   "outputs": [
    {
     "name": "stdout",
     "output_type": "stream",
     "text": [
      "Skipping, found downloaded files in \".\\movielens\" (use force=True to force download)\n"
     ]
    }
   ],
   "source": [
    "od.download(dataset)"
   ]
  },
  {
   "cell_type": "code",
   "execution_count": 5,
   "id": "4b4c20a2",
   "metadata": {},
   "outputs": [],
   "source": [
    "import os"
   ]
  },
  {
   "cell_type": "code",
   "execution_count": 6,
   "id": "60960902",
   "metadata": {},
   "outputs": [],
   "source": [
    "data_dir = '.\\movielens'"
   ]
  },
  {
   "cell_type": "code",
   "execution_count": 7,
   "id": "37ccacab",
   "metadata": {},
   "outputs": [
    {
     "name": "stdout",
     "output_type": "stream",
     "text": [
      "['movies.dat', 'ratings.dat', 'users.dat']\n"
     ]
    }
   ],
   "source": [
    "print(os.listdir(data_dir))"
   ]
  },
  {
   "cell_type": "code",
   "execution_count": 8,
   "id": "735288e0",
   "metadata": {},
   "outputs": [],
   "source": [
    "import pandas as pd\n",
    "import numpy as np\n",
    "import matplotlib.pyplot as plt\n",
    "%matplotlib inline\n",
    "import seaborn as sns\n",
    "import random as rnd\n",
    "\n",
    "from sklearn.model_selection import train_test_split\n",
    "from sklearn.linear_model import LogisticRegression\n",
    "from sklearn.svm import SVC, LinearSVC\n",
    "from sklearn.ensemble import RandomForestClassifier\n",
    "from sklearn.neighbors import KNeighborsClassifier\n",
    "from sklearn.naive_bayes import GaussianNB\n",
    "from sklearn.linear_model import Perceptron\n",
    "from sklearn.linear_model import SGDClassifier\n",
    "from sklearn.tree import DecisionTreeClassifier"
   ]
  },
  {
   "cell_type": "code",
   "execution_count": 9,
   "id": "2cb7c1bc",
   "metadata": {},
   "outputs": [
    {
     "data": {
      "text/html": [
       "<div>\n",
       "<style scoped>\n",
       "    .dataframe tbody tr th:only-of-type {\n",
       "        vertical-align: middle;\n",
       "    }\n",
       "\n",
       "    .dataframe tbody tr th {\n",
       "        vertical-align: top;\n",
       "    }\n",
       "\n",
       "    .dataframe thead th {\n",
       "        text-align: right;\n",
       "    }\n",
       "</style>\n",
       "<table border=\"1\" class=\"dataframe\">\n",
       "  <thead>\n",
       "    <tr style=\"text-align: right;\">\n",
       "      <th></th>\n",
       "      <th>MovieIDs</th>\n",
       "      <th>MovieName</th>\n",
       "      <th>Categort</th>\n",
       "    </tr>\n",
       "  </thead>\n",
       "  <tbody>\n",
       "    <tr>\n",
       "      <th>0</th>\n",
       "      <td>2</td>\n",
       "      <td>Jumanji (1995)</td>\n",
       "      <td>Adventure|Children's|Fantasy</td>\n",
       "    </tr>\n",
       "    <tr>\n",
       "      <th>1</th>\n",
       "      <td>3</td>\n",
       "      <td>Grumpier Old Men (1995)</td>\n",
       "      <td>Comedy|Romance</td>\n",
       "    </tr>\n",
       "    <tr>\n",
       "      <th>2</th>\n",
       "      <td>4</td>\n",
       "      <td>Waiting to Exhale (1995)</td>\n",
       "      <td>Comedy|Drama</td>\n",
       "    </tr>\n",
       "    <tr>\n",
       "      <th>3</th>\n",
       "      <td>5</td>\n",
       "      <td>Father of the Bride Part II (1995)</td>\n",
       "      <td>Comedy</td>\n",
       "    </tr>\n",
       "    <tr>\n",
       "      <th>4</th>\n",
       "      <td>6</td>\n",
       "      <td>Heat (1995)</td>\n",
       "      <td>Action|Crime|Thriller</td>\n",
       "    </tr>\n",
       "  </tbody>\n",
       "</table>\n",
       "</div>"
      ],
      "text/plain": [
       "   MovieIDs                           MovieName                      Categort\n",
       "0         2                      Jumanji (1995)  Adventure|Children's|Fantasy\n",
       "1         3             Grumpier Old Men (1995)                Comedy|Romance\n",
       "2         4            Waiting to Exhale (1995)                  Comedy|Drama\n",
       "3         5  Father of the Bride Part II (1995)                        Comedy\n",
       "4         6                         Heat (1995)         Action|Crime|Thriller"
      ]
     },
     "execution_count": 9,
     "metadata": {},
     "output_type": "execute_result"
    }
   ],
   "source": [
    "df_movie = pd.read_csv('.\\movielens/movies.dat', sep = '::', engine='python', encoding='latin-1')\n",
    "df_movie.columns=['MovieIDs', 'MovieName', 'Categort']\n",
    "df_movie.dropna(inplace=True)\n",
    "df_movie.head()"
   ]
  },
  {
   "cell_type": "code",
   "execution_count": 10,
   "id": "90ee956c",
   "metadata": {},
   "outputs": [
    {
     "data": {
      "text/html": [
       "<div>\n",
       "<style scoped>\n",
       "    .dataframe tbody tr th:only-of-type {\n",
       "        vertical-align: middle;\n",
       "    }\n",
       "\n",
       "    .dataframe tbody tr th {\n",
       "        vertical-align: top;\n",
       "    }\n",
       "\n",
       "    .dataframe thead th {\n",
       "        text-align: right;\n",
       "    }\n",
       "</style>\n",
       "<table border=\"1\" class=\"dataframe\">\n",
       "  <thead>\n",
       "    <tr style=\"text-align: right;\">\n",
       "      <th></th>\n",
       "      <th>ID</th>\n",
       "      <th>MovieID</th>\n",
       "      <th>Ratings</th>\n",
       "      <th>TimeStamp</th>\n",
       "    </tr>\n",
       "  </thead>\n",
       "  <tbody>\n",
       "    <tr>\n",
       "      <th>0</th>\n",
       "      <td>1</td>\n",
       "      <td>661</td>\n",
       "      <td>3</td>\n",
       "      <td>978302109</td>\n",
       "    </tr>\n",
       "    <tr>\n",
       "      <th>1</th>\n",
       "      <td>1</td>\n",
       "      <td>914</td>\n",
       "      <td>3</td>\n",
       "      <td>978301968</td>\n",
       "    </tr>\n",
       "    <tr>\n",
       "      <th>2</th>\n",
       "      <td>1</td>\n",
       "      <td>3408</td>\n",
       "      <td>4</td>\n",
       "      <td>978300275</td>\n",
       "    </tr>\n",
       "    <tr>\n",
       "      <th>3</th>\n",
       "      <td>1</td>\n",
       "      <td>2355</td>\n",
       "      <td>5</td>\n",
       "      <td>978824291</td>\n",
       "    </tr>\n",
       "    <tr>\n",
       "      <th>4</th>\n",
       "      <td>1</td>\n",
       "      <td>1197</td>\n",
       "      <td>3</td>\n",
       "      <td>978302268</td>\n",
       "    </tr>\n",
       "  </tbody>\n",
       "</table>\n",
       "</div>"
      ],
      "text/plain": [
       "   ID  MovieID  Ratings  TimeStamp\n",
       "0   1      661        3  978302109\n",
       "1   1      914        3  978301968\n",
       "2   1     3408        4  978300275\n",
       "3   1     2355        5  978824291\n",
       "4   1     1197        3  978302268"
      ]
     },
     "execution_count": 10,
     "metadata": {},
     "output_type": "execute_result"
    }
   ],
   "source": [
    "df_rating = pd.read_csv('.\\movielens/ratings.dat', sep = '::', engine='python', encoding='latin-1')\n",
    "df_rating.columns=['ID', 'MovieID', 'Ratings','TimeStamp']\n",
    "df_rating.dropna(inplace=True)\n",
    "df_rating.head()"
   ]
  },
  {
   "cell_type": "code",
   "execution_count": 11,
   "id": "a121126c",
   "metadata": {},
   "outputs": [
    {
     "data": {
      "text/html": [
       "<div>\n",
       "<style scoped>\n",
       "    .dataframe tbody tr th:only-of-type {\n",
       "        vertical-align: middle;\n",
       "    }\n",
       "\n",
       "    .dataframe tbody tr th {\n",
       "        vertical-align: top;\n",
       "    }\n",
       "\n",
       "    .dataframe thead th {\n",
       "        text-align: right;\n",
       "    }\n",
       "</style>\n",
       "<table border=\"1\" class=\"dataframe\">\n",
       "  <thead>\n",
       "    <tr style=\"text-align: right;\">\n",
       "      <th></th>\n",
       "      <th>UserID</th>\n",
       "      <th>Gender</th>\n",
       "      <th>Age</th>\n",
       "      <th>Occupation</th>\n",
       "      <th>Zip-code</th>\n",
       "    </tr>\n",
       "  </thead>\n",
       "  <tbody>\n",
       "    <tr>\n",
       "      <th>0</th>\n",
       "      <td>2</td>\n",
       "      <td>M</td>\n",
       "      <td>56</td>\n",
       "      <td>16</td>\n",
       "      <td>70072</td>\n",
       "    </tr>\n",
       "    <tr>\n",
       "      <th>1</th>\n",
       "      <td>3</td>\n",
       "      <td>M</td>\n",
       "      <td>25</td>\n",
       "      <td>15</td>\n",
       "      <td>55117</td>\n",
       "    </tr>\n",
       "    <tr>\n",
       "      <th>2</th>\n",
       "      <td>4</td>\n",
       "      <td>M</td>\n",
       "      <td>45</td>\n",
       "      <td>7</td>\n",
       "      <td>02460</td>\n",
       "    </tr>\n",
       "    <tr>\n",
       "      <th>3</th>\n",
       "      <td>5</td>\n",
       "      <td>M</td>\n",
       "      <td>25</td>\n",
       "      <td>20</td>\n",
       "      <td>55455</td>\n",
       "    </tr>\n",
       "    <tr>\n",
       "      <th>4</th>\n",
       "      <td>6</td>\n",
       "      <td>F</td>\n",
       "      <td>50</td>\n",
       "      <td>9</td>\n",
       "      <td>55117</td>\n",
       "    </tr>\n",
       "  </tbody>\n",
       "</table>\n",
       "</div>"
      ],
      "text/plain": [
       "   UserID Gender  Age  Occupation Zip-code\n",
       "0       2      M   56          16    70072\n",
       "1       3      M   25          15    55117\n",
       "2       4      M   45           7    02460\n",
       "3       5      M   25          20    55455\n",
       "4       6      F   50           9    55117"
      ]
     },
     "execution_count": 11,
     "metadata": {},
     "output_type": "execute_result"
    }
   ],
   "source": [
    "df_user = pd.read_csv('.\\movielens/users.dat', sep = '::', engine='python', encoding='latin-1')\n",
    "df_user.columns=['UserID', 'Gender', 'Age','Occupation','Zip-code']\n",
    "df_user.dropna(inplace=True)\n",
    "df_user.head()"
   ]
  },
  {
   "cell_type": "code",
   "execution_count": 12,
   "id": "4227a9c0",
   "metadata": {},
   "outputs": [
    {
     "data": {
      "text/html": [
       "<div>\n",
       "<style scoped>\n",
       "    .dataframe tbody tr th:only-of-type {\n",
       "        vertical-align: middle;\n",
       "    }\n",
       "\n",
       "    .dataframe tbody tr th {\n",
       "        vertical-align: top;\n",
       "    }\n",
       "\n",
       "    .dataframe thead th {\n",
       "        text-align: right;\n",
       "    }\n",
       "</style>\n",
       "<table border=\"1\" class=\"dataframe\">\n",
       "  <thead>\n",
       "    <tr style=\"text-align: right;\">\n",
       "      <th></th>\n",
       "      <th>MovieIDs</th>\n",
       "      <th>MovieName</th>\n",
       "      <th>Categort</th>\n",
       "      <th>ID</th>\n",
       "      <th>MovieID</th>\n",
       "      <th>Ratings</th>\n",
       "      <th>TimeStamp</th>\n",
       "      <th>UserID</th>\n",
       "      <th>Gender</th>\n",
       "      <th>Age</th>\n",
       "      <th>Occupation</th>\n",
       "      <th>Zip-code</th>\n",
       "    </tr>\n",
       "  </thead>\n",
       "  <tbody>\n",
       "    <tr>\n",
       "      <th>0</th>\n",
       "      <td>2.0</td>\n",
       "      <td>Jumanji (1995)</td>\n",
       "      <td>Adventure|Children's|Fantasy</td>\n",
       "      <td>1</td>\n",
       "      <td>661</td>\n",
       "      <td>3</td>\n",
       "      <td>978302109</td>\n",
       "      <td>2.0</td>\n",
       "      <td>M</td>\n",
       "      <td>56.0</td>\n",
       "      <td>16.0</td>\n",
       "      <td>70072</td>\n",
       "    </tr>\n",
       "    <tr>\n",
       "      <th>1</th>\n",
       "      <td>3.0</td>\n",
       "      <td>Grumpier Old Men (1995)</td>\n",
       "      <td>Comedy|Romance</td>\n",
       "      <td>1</td>\n",
       "      <td>914</td>\n",
       "      <td>3</td>\n",
       "      <td>978301968</td>\n",
       "      <td>3.0</td>\n",
       "      <td>M</td>\n",
       "      <td>25.0</td>\n",
       "      <td>15.0</td>\n",
       "      <td>55117</td>\n",
       "    </tr>\n",
       "    <tr>\n",
       "      <th>2</th>\n",
       "      <td>4.0</td>\n",
       "      <td>Waiting to Exhale (1995)</td>\n",
       "      <td>Comedy|Drama</td>\n",
       "      <td>1</td>\n",
       "      <td>3408</td>\n",
       "      <td>4</td>\n",
       "      <td>978300275</td>\n",
       "      <td>4.0</td>\n",
       "      <td>M</td>\n",
       "      <td>45.0</td>\n",
       "      <td>7.0</td>\n",
       "      <td>02460</td>\n",
       "    </tr>\n",
       "    <tr>\n",
       "      <th>3</th>\n",
       "      <td>5.0</td>\n",
       "      <td>Father of the Bride Part II (1995)</td>\n",
       "      <td>Comedy</td>\n",
       "      <td>1</td>\n",
       "      <td>2355</td>\n",
       "      <td>5</td>\n",
       "      <td>978824291</td>\n",
       "      <td>5.0</td>\n",
       "      <td>M</td>\n",
       "      <td>25.0</td>\n",
       "      <td>20.0</td>\n",
       "      <td>55455</td>\n",
       "    </tr>\n",
       "    <tr>\n",
       "      <th>4</th>\n",
       "      <td>6.0</td>\n",
       "      <td>Heat (1995)</td>\n",
       "      <td>Action|Crime|Thriller</td>\n",
       "      <td>1</td>\n",
       "      <td>1197</td>\n",
       "      <td>3</td>\n",
       "      <td>978302268</td>\n",
       "      <td>6.0</td>\n",
       "      <td>F</td>\n",
       "      <td>50.0</td>\n",
       "      <td>9.0</td>\n",
       "      <td>55117</td>\n",
       "    </tr>\n",
       "  </tbody>\n",
       "</table>\n",
       "</div>"
      ],
      "text/plain": [
       "   MovieIDs                           MovieName                      Categort  \\\n",
       "0       2.0                      Jumanji (1995)  Adventure|Children's|Fantasy   \n",
       "1       3.0             Grumpier Old Men (1995)                Comedy|Romance   \n",
       "2       4.0            Waiting to Exhale (1995)                  Comedy|Drama   \n",
       "3       5.0  Father of the Bride Part II (1995)                        Comedy   \n",
       "4       6.0                         Heat (1995)         Action|Crime|Thriller   \n",
       "\n",
       "   ID  MovieID  Ratings  TimeStamp  UserID Gender   Age  Occupation Zip-code  \n",
       "0   1      661        3  978302109     2.0      M  56.0        16.0    70072  \n",
       "1   1      914        3  978301968     3.0      M  25.0        15.0    55117  \n",
       "2   1     3408        4  978300275     4.0      M  45.0         7.0    02460  \n",
       "3   1     2355        5  978824291     5.0      M  25.0        20.0    55455  \n",
       "4   1     1197        3  978302268     6.0      F  50.0         9.0    55117  "
      ]
     },
     "execution_count": 12,
     "metadata": {},
     "output_type": "execute_result"
    }
   ],
   "source": [
    "df = pd.concat([df_movie, df_rating, df_user], axis=1)\n",
    "df.head()"
   ]
  },
  {
   "cell_type": "code",
   "execution_count": 13,
   "id": "671ed4fe",
   "metadata": {},
   "outputs": [
    {
     "data": {
      "text/plain": [
       "(1000208, 12)"
      ]
     },
     "execution_count": 13,
     "metadata": {},
     "output_type": "execute_result"
    }
   ],
   "source": [
    "df.shape"
   ]
  },
  {
   "cell_type": "code",
   "execution_count": 14,
   "id": "8491f0f3",
   "metadata": {},
   "outputs": [
    {
     "data": {
      "text/plain": [
       "MovieIDs      996326\n",
       "MovieName     996326\n",
       "Categort      996326\n",
       "ID                 0\n",
       "MovieID            0\n",
       "Ratings            0\n",
       "TimeStamp          0\n",
       "UserID        994169\n",
       "Gender        994169\n",
       "Age           994169\n",
       "Occupation    994169\n",
       "Zip-code      994169\n",
       "dtype: int64"
      ]
     },
     "execution_count": 14,
     "metadata": {},
     "output_type": "execute_result"
    }
   ],
   "source": [
    "df.isna().sum()"
   ]
  },
  {
   "cell_type": "markdown",
   "id": "87988e23",
   "metadata": {},
   "source": [
    "**Visualise user age distribution"
   ]
  },
  {
   "cell_type": "code",
   "execution_count": 15,
   "id": "48078aee",
   "metadata": {},
   "outputs": [
    {
     "data": {
      "image/png": "[encoded data removed]",
      "text/plain": [
       "<Figure size 600x300 with 1 Axes>"
      ]
     },
     "metadata": {},
     "output_type": "display_data"
    }
   ],
   "source": [
    "#Create a histogram to visulize the user age distribution\n",
    "plt.figure(figsize=(6,3))\n",
    "plt.hist(df['Age'], bins=25, color='lightseagreen', edgecolor='green')\n",
    "plt.title('User Age Distribution')\n",
    "plt.xlabel('Age')\n",
    "plt.ylabel('Number of Users')\n",
    "plt.grid(True)\n",
    "plt.show()"
   ]
  },
  {
   "cell_type": "markdown",
   "id": "1dbbfea5",
   "metadata": {},
   "source": [
    "# User Age Distribution by Group"
   ]
  },
  {
   "cell_type": "code",
   "execution_count": 16,
   "id": "b063f6ca",
   "metadata": {},
   "outputs": [
    {
     "data": {
      "text/html": [
       "<div>\n",
       "<style scoped>\n",
       "    .dataframe tbody tr th:only-of-type {\n",
       "        vertical-align: middle;\n",
       "    }\n",
       "\n",
       "    .dataframe tbody tr th {\n",
       "        vertical-align: top;\n",
       "    }\n",
       "\n",
       "    .dataframe thead th {\n",
       "        text-align: right;\n",
       "    }\n",
       "</style>\n",
       "<table border=\"1\" class=\"dataframe\">\n",
       "  <thead>\n",
       "    <tr style=\"text-align: right;\">\n",
       "      <th></th>\n",
       "      <th>Age</th>\n",
       "      <th>Age Group</th>\n",
       "    </tr>\n",
       "  </thead>\n",
       "  <tbody>\n",
       "    <tr>\n",
       "      <th>0</th>\n",
       "      <td>56.0</td>\n",
       "      <td>56-65</td>\n",
       "    </tr>\n",
       "    <tr>\n",
       "      <th>1</th>\n",
       "      <td>25.0</td>\n",
       "      <td>19-25</td>\n",
       "    </tr>\n",
       "    <tr>\n",
       "      <th>2</th>\n",
       "      <td>45.0</td>\n",
       "      <td>36-45</td>\n",
       "    </tr>\n",
       "    <tr>\n",
       "      <th>4</th>\n",
       "      <td>50.0</td>\n",
       "      <td>46-55</td>\n",
       "    </tr>\n",
       "    <tr>\n",
       "      <th>5</th>\n",
       "      <td>35.0</td>\n",
       "      <td>26-35</td>\n",
       "    </tr>\n",
       "    <tr>\n",
       "      <th>16</th>\n",
       "      <td>18.0</td>\n",
       "      <td>0-18</td>\n",
       "    </tr>\n",
       "    <tr>\n",
       "      <th>17</th>\n",
       "      <td>1.0</td>\n",
       "      <td>0-18</td>\n",
       "    </tr>\n",
       "    <tr>\n",
       "      <th>6039</th>\n",
       "      <td>NaN</td>\n",
       "      <td>NaN</td>\n",
       "    </tr>\n",
       "  </tbody>\n",
       "</table>\n",
       "</div>"
      ],
      "text/plain": [
       "       Age Age Group\n",
       "0     56.0     56-65\n",
       "1     25.0     19-25\n",
       "2     45.0     36-45\n",
       "4     50.0     46-55\n",
       "5     35.0     26-35\n",
       "16    18.0      0-18\n",
       "17     1.0      0-18\n",
       "6039   NaN       NaN"
      ]
     },
     "execution_count": 16,
     "metadata": {},
     "output_type": "execute_result"
    }
   ],
   "source": [
    "# 1. Define age bins and labels\n",
    "age_bins = [0, 18, 25, 35, 45, 55, 65, 100]\n",
    "age_labels = ['0-18', '19-25', '26-35', '36-45', '46-55', '56-65', '66+']\n",
    "\n",
    "# 2. Add a new column with age groups\n",
    "df['Age Group'] = pd.cut(df['Age'], bins=age_bins, labels=age_labels)\n",
    "df[['Age', 'Age Group']].drop_duplicates()[:10]"
   ]
  },
  {
   "cell_type": "markdown",
   "id": "ef906958",
   "metadata": {},
   "source": [
    "# Visualise overall ratin by user"
   ]
  },
  {
   "cell_type": "code",
   "execution_count": 17,
   "id": "b2421f47",
   "metadata": {},
   "outputs": [
    {
     "data": {
      "image/png": "[encoded data removed]",
      "text/plain": [
       "<Figure size 600x300 with 1 Axes>"
      ]
     },
     "metadata": {},
     "output_type": "display_data"
    }
   ],
   "source": [
    "#Count the number of occurrences for each rating\n",
    "rating_counts = df_rating['Ratings'].value_counts().sort_index()\n",
    "\n",
    "#Create a bar plot to visulize the distribution of user rating\n",
    "\n",
    "#Define colors for each rating value\n",
    "colors = ['green', 'orange', 'yellow', 'red', 'blue']\n",
    "\n",
    "plt.figure(figsize=(6, 3))\n",
    "rating_counts.plot(kind='bar', alpha=0.7, color=colors)\n",
    "plt.title('Distribution of User Rating')\n",
    "plt.xlabel('Rating')\n",
    "plt.ylabel('Number of Ratings')\n",
    "plt.xticks(rotation=0)\n",
    "plt.show()"
   ]
  },
  {
   "cell_type": "code",
   "execution_count": 18,
   "id": "3d571703",
   "metadata": {},
   "outputs": [],
   "source": [
    "groupedby_movieName = df.groupby('MovieName')\n",
    "groupedby_rating = df.groupby('Ratings')\n",
    "groupedby_uid = df.groupby('UserID')"
   ]
  },
  {
   "cell_type": "code",
   "execution_count": 19,
   "id": "1c4748d7",
   "metadata": {},
   "outputs": [
    {
     "name": "stdout",
     "output_type": "stream",
     "text": [
      "MovieName\n",
      "$1,000,000 Duck (1971)                   1\n",
      "Only Angels Have Wings (1939)            1\n",
      "Only You (1994)                          1\n",
      "Open Season (1996)                       1\n",
      "Open Your Eyes (Abre los ojos) (1997)    1\n",
      "                                        ..\n",
      "Toy Story 2 (1999)                       1\n",
      "Toys (1992)                              1\n",
      "Total Eclipse (1995)                     1\n",
      "Trading Places (1983)                    1\n",
      "Tom & Viv (1994)                         1\n",
      "Length: 1000, dtype: int64\n"
     ]
    }
   ],
   "source": [
    "movies = df.groupby('MovieName').size().sort_values(ascending=True)[:1000]\n",
    "print(movies)"
   ]
  },
  {
   "cell_type": "code",
   "execution_count": 20,
   "id": "3e001536",
   "metadata": {},
   "outputs": [
    {
     "data": {
      "text/plain": [
       "(1, 13)"
      ]
     },
     "execution_count": 20,
     "metadata": {},
     "output_type": "execute_result"
    }
   ],
   "source": [
    "Top_gun_data = groupedby_movieName.get_group('Top Gun (1986)')\n",
    "Top_gun_data.shape"
   ]
  },
  {
   "cell_type": "markdown",
   "id": "2dab39ba",
   "metadata": {},
   "source": [
    "# Find and visualize the user rating of the movie \"Toy Story\""
   ]
  },
  {
   "cell_type": "code",
   "execution_count": 21,
   "id": "7ac7f708",
   "metadata": {},
   "outputs": [
    {
     "data": {
      "image/png": "[encoded data removed]",
      "text/plain": [
       "<Figure size 600x300 with 1 Axes>"
      ]
     },
     "metadata": {},
     "output_type": "display_data"
    }
   ],
   "source": [
    "# 1. Filter data for \"Top Gun\"\n",
    "top_gun_data = df[df['MovieName'] == 'Top Gun (1986)']\n",
    "\n",
    "# 2. Visualize user rating for \"Top Gun\"\n",
    "plt.figure(figsize=(6, 3))\n",
    "plt.hist(top_gun_data['Ratings'],bins=5,color='magenta', edgecolor='black')\n",
    "plt.title('User Ratings for \"Top Gun\"')\n",
    "plt.xlabel('Rating')\n",
    "plt.ylabel('Number of Ratings')\n",
    "plt.xticks(range(1, 6))\n",
    "plt.grid(True)\n",
    "plt.show()"
   ]
  },
  {
   "cell_type": "code",
   "execution_count": 22,
   "id": "79d618a4",
   "metadata": {},
   "outputs": [
    {
     "data": {
      "image/png": "[encoded data removed]",
      "text/plain": [
       "<Figure size 600x300 with 1 Axes>"
      ]
     },
     "metadata": {},
     "output_type": "display_data"
    }
   ],
   "source": [
    "#Find and visualize the user rating of the movie \"Toy Story\"\n",
    "plt.figure(figsize=(6,3))\n",
    "plt.scatter(Top_gun_data['MovieName'],Top_gun_data['Ratings'])\n",
    "plt.title('Plot showing the user rating of the movie \"Top Gun\"')\n",
    "plt.show()"
   ]
  },
  {
   "cell_type": "code",
   "execution_count": 23,
   "id": "00d81974",
   "metadata": {},
   "outputs": [
    {
     "name": "stdout",
     "output_type": "stream",
     "text": [
      "   MovieIDs                           MovieName                      Categort  \\\n",
      "0       2.0                      Jumanji (1995)  Adventure|Children's|Fantasy   \n",
      "1       3.0             Grumpier Old Men (1995)                Comedy|Romance   \n",
      "2       4.0            Waiting to Exhale (1995)                  Comedy|Drama   \n",
      "3       5.0  Father of the Bride Part II (1995)                        Comedy   \n",
      "4       6.0                         Heat (1995)         Action|Crime|Thriller   \n",
      "\n",
      "   ID  MovieID  Ratings  TimeStamp  UserID Gender   Age  Occupation Zip-code  \\\n",
      "0   1      661        3  978302109     2.0      M  56.0        16.0    70072   \n",
      "1   1      914        3  978301968     3.0      M  25.0        15.0    55117   \n",
      "2   1     3408        4  978300275     4.0      M  45.0         7.0    02460   \n",
      "3   1     2355        5  978824291     5.0      M  25.0        20.0    55455   \n",
      "4   1     1197        3  978302268     6.0      F  50.0         9.0    55117   \n",
      "\n",
      "  Age Group  \n",
      "0     56-65  \n",
      "1     19-25  \n",
      "2     36-45  \n",
      "3     19-25  \n",
      "4     46-55  \n"
     ]
    }
   ],
   "source": [
    "print(df.head())"
   ]
  },
  {
   "cell_type": "code",
   "execution_count": 24,
   "id": "c209df98",
   "metadata": {},
   "outputs": [
    {
     "data": {
      "text/html": [
       "<div>\n",
       "<style scoped>\n",
       "    .dataframe tbody tr th:only-of-type {\n",
       "        vertical-align: middle;\n",
       "    }\n",
       "\n",
       "    .dataframe tbody tr th {\n",
       "        vertical-align: top;\n",
       "    }\n",
       "\n",
       "    .dataframe thead th {\n",
       "        text-align: right;\n",
       "    }\n",
       "</style>\n",
       "<table border=\"1\" class=\"dataframe\">\n",
       "  <thead>\n",
       "    <tr style=\"text-align: right;\">\n",
       "      <th></th>\n",
       "      <th>MovieName</th>\n",
       "      <th>Age Group</th>\n",
       "    </tr>\n",
       "  </thead>\n",
       "  <tbody>\n",
       "    <tr>\n",
       "      <th>1084</th>\n",
       "      <td>Top Gun (1986)</td>\n",
       "      <td>0-18</td>\n",
       "    </tr>\n",
       "  </tbody>\n",
       "</table>\n",
       "</div>"
      ],
      "text/plain": [
       "           MovieName Age Group\n",
       "1084  Top Gun (1986)      0-18"
      ]
     },
     "execution_count": 24,
     "metadata": {},
     "output_type": "execute_result"
    }
   ],
   "source": [
    "#Find and visualize the viewership of the movie \"Toy Story\" by age group\n",
    "Top_gun_data[['MovieName', 'Age Group']]"
   ]
  },
  {
   "cell_type": "markdown",
   "id": "cc7f458d",
   "metadata": {},
   "source": [
    "# Find and visualize the top 25 movies by viewership rating"
   ]
  },
  {
   "cell_type": "code",
   "execution_count": 25,
   "id": "ccdf2788",
   "metadata": {},
   "outputs": [
    {
     "name": "stderr",
     "output_type": "stream",
     "text": [
      "C:\\Users\\nagoo\\AppData\\Local\\Temp\\ipykernel_6668\\2563186395.py:12: MatplotlibDeprecationWarning: The get_cmap function was deprecated in Matplotlib 3.7 and will be removed two minor releases later. Use ``matplotlib.colormaps[name]`` or ``matplotlib.colormaps.get_cmap(obj)`` instead.\n",
      "  color_palette = plt.cm.get_cmap('tab20', len(top_25_movies))\n"
     ]
    },
    {
     "data": {
      "image/png": "[encoded data removed]",
      "text/plain": [
       "<Figure size 600x300 with 1 Axes>"
      ]
     },
     "metadata": {},
     "output_type": "display_data"
    }
   ],
   "source": [
    "# 1. Calculate average ratings for each movie\n",
    "movie_rating = df.groupby('MovieName')['Ratings'].mean()\n",
    "\n",
    "# 2.sort movies based on average rating\n",
    "sorted_movies = movie_rating.sort_values(ascending=True)\n",
    "\n",
    "# 3. Select top 25 movies\n",
    "top_25_movies = sorted_movies.head(25)\n",
    "\n",
    "# 4. Visualize the top 25 movies by viewership rating\n",
    "plt.figure(figsize=(6, 3))\n",
    "color_palette = plt.cm.get_cmap('tab20', len(top_25_movies))\n",
    "top_25_movies.plot(kind='bar', color=color_palette.colors)\n",
    "plt.title('Top 25 Movies by Viewership Rating')\n",
    "plt.xlabel('Movie')\n",
    "plt.ylabel('Average Rating')\n",
    "plt.xticks(rotation=90)\n",
    "plt.grid(True)\n",
    "plt.show()"
   ]
  },
  {
   "cell_type": "code",
   "execution_count": 26,
   "id": "dd5ea360",
   "metadata": {},
   "outputs": [
    {
     "data": {
      "text/html": [
       "<div>\n",
       "<style scoped>\n",
       "    .dataframe tbody tr th:only-of-type {\n",
       "        vertical-align: middle;\n",
       "    }\n",
       "\n",
       "    .dataframe tbody tr th {\n",
       "        vertical-align: top;\n",
       "    }\n",
       "\n",
       "    .dataframe thead th {\n",
       "        text-align: right;\n",
       "    }\n",
       "</style>\n",
       "<table border=\"1\" class=\"dataframe\">\n",
       "  <thead>\n",
       "    <tr style=\"text-align: right;\">\n",
       "      <th></th>\n",
       "      <th>UserID</th>\n",
       "      <th>Ratings</th>\n",
       "    </tr>\n",
       "  </thead>\n",
       "  <tbody>\n",
       "    <tr>\n",
       "      <th>2694</th>\n",
       "      <td>2696.0</td>\n",
       "      <td>3</td>\n",
       "    </tr>\n",
       "  </tbody>\n",
       "</table>\n",
       "</div>"
      ],
      "text/plain": [
       "      UserID  Ratings\n",
       "2694  2696.0        3"
      ]
     },
     "execution_count": 26,
     "metadata": {},
     "output_type": "execute_result"
    }
   ],
   "source": [
    "# top 25\n",
    "#Visualize the rating data by user of user id = 2696\n",
    "userid_2696 = groupedby_uid.get_group(2696)\n",
    "userid_2696[['UserID', 'Ratings']]"
   ]
  },
  {
   "cell_type": "code",
   "execution_count": 27,
   "id": "872bdc6e",
   "metadata": {},
   "outputs": [
    {
     "data": {
      "image/png": "[encoded data removed]",
      "text/plain": [
       "<Figure size 600x300 with 1 Axes>"
      ]
     },
     "metadata": {},
     "output_type": "display_data"
    }
   ],
   "source": [
    "# 1. Filter data for the user with user id 2696\n",
    "user_2696_data = df[df['UserID'] == 2696]\n",
    "\n",
    "# 2. Visualize the distribution of ratings given by user 2696\n",
    "plt.figure(figsize=(6, 3))\n",
    "user_2696_data['Ratings'].value_counts().sort_index().plot(kind='bar', color='peru')\n",
    "plt.title('Rating Distribution by User (User ID = 2696)')\n",
    "plt.xlabel('Rating')\n",
    "plt.ylabel('Number of Ratings')\n",
    "plt.xticks(rotation=0)\n",
    "plt.grid(True)\n",
    "plt.show()"
   ]
  },
  {
   "cell_type": "code",
   "execution_count": 28,
   "id": "4434e709",
   "metadata": {},
   "outputs": [
    {
     "data": {
      "image/png": "[encoded data removed]",
      "text/plain": [
       "<Figure size 600x400 with 1 Axes>"
      ]
     },
     "metadata": {},
     "output_type": "display_data"
    }
   ],
   "source": [
    "#Group data by age group and calculate viewership count\n",
    "age_group_viewership = top_gun_data.groupby('Age Group').size()\n",
    "\n",
    "#Visualize viewership of \"Top Gun\" by age group\n",
    "plt.figure(figsize=(6, 4))\n",
    "age_group_viewership.plot(kind='bar', color='purple')\n",
    "plt.title('Viewership of \"Top Gun\" by Age Group')\n",
    "plt.xlabel('age_group')\n",
    "plt.ylabel('Number of Viewers')\n",
    "plt.xticks(rotation=0)\n",
    "plt.grid(True)\n",
    "plt.show()"
   ]
  },
  {
   "cell_type": "markdown",
   "id": "eb514688",
   "metadata": {},
   "source": [
    "# Visualize overall rating by users"
   ]
  },
  {
   "cell_type": "code",
   "execution_count": 29,
   "id": "4c2a7bbf",
   "metadata": {},
   "outputs": [
    {
     "data": {
      "image/png": "[encoded data removed]",
      "text/plain": [
       "<Figure size 600x300 with 1 Axes>"
      ]
     },
     "metadata": {},
     "output_type": "display_data"
    }
   ],
   "source": [
    "# Creste a histogram to visualize the overall rating distribution\n",
    "plt.figure(figsize=(6, 3))\n",
    "plt.hist(df['Ratings'], bins=5, color='green', edgecolor='black')\n",
    "plt.title('Overall Rating Distribution by Users')\n",
    "plt.xlabel('Rating')\n",
    "plt.ylabel('Number of Ratings')\n",
    "plt.xticks(range(1, 6))\n",
    "plt.grid(True)\n",
    "plt.show()"
   ]
  },
  {
   "cell_type": "markdown",
   "id": "14f84fa9",
   "metadata": {},
   "source": [
    "# Lets perform Machine Learning on first 500 extracted record"
   ]
  },
  {
   "cell_type": "code",
   "execution_count": 30,
   "id": "740c5b35",
   "metadata": {},
   "outputs": [
    {
     "name": "stderr",
     "output_type": "stream",
     "text": [
      "C:\\Users\\nagoo\\AppData\\Local\\Temp\\ipykernel_6668\\937029606.py:5: SettingWithCopyWarning: \n",
      "A value is trying to be set on a copy of a slice from a DataFrame\n",
      "\n",
      "See the caveats in the documentation: https://pandas.pydata.org/pandas-docs/stable/user_guide/indexing.html#returning-a-view-versus-a-copy\n",
      "  df_500.dropna(inplace=True)\n"
     ]
    }
   ],
   "source": [
    "# Extract the first 500 rows of data\n",
    "df_500 = df.head(500)\n",
    "\n",
    "# Remove rows with missing values\n",
    "df_500.dropna(inplace=True)"
   ]
  },
  {
   "cell_type": "markdown",
   "id": "d620768a",
   "metadata": {},
   "source": [
    "# Use the following features:movie id,age,occupation"
   ]
  },
  {
   "cell_type": "code",
   "execution_count": 31,
   "id": "3f4a924c",
   "metadata": {},
   "outputs": [],
   "source": [
    "# Select specific columns for analysis\n",
    "features = df_500[['MovieID', 'Age', 'Occupation']].values"
   ]
  },
  {
   "cell_type": "code",
   "execution_count": 32,
   "id": "ea9d2523",
   "metadata": {},
   "outputs": [],
   "source": [
    "#Rating as label\n",
    "labels = df_500['Ratings'].values"
   ]
  },
  {
   "cell_type": "code",
   "execution_count": 33,
   "id": "63395587",
   "metadata": {},
   "outputs": [],
   "source": [
    "# Split the data into train and test sets\n",
    "train, test, train_label, test_label = train_test_split(features, labels, test_size=0.33, random_state=42)\n"
   ]
  },
  {
   "cell_type": "code",
   "execution_count": 34,
   "id": "81a469b4",
   "metadata": {},
   "outputs": [
    {
     "name": "stdout",
     "output_type": "stream",
     "text": [
      "X_train shape: (335, 3)\n",
      "X_train shape: (335,)\n",
      "X_test shape: (165, 3)\n",
      "X_test shape: (165,)\n"
     ]
    }
   ],
   "source": [
    "#Display the shapes of train and test sets\n",
    "print(\"X_train shape:\", train.shape)\n",
    "print(\"X_train shape:\", train_label.shape)\n",
    "print(\"X_test shape:\", test.shape)\n",
    "print(\"X_test shape:\", test_label.shape)"
   ]
  },
  {
   "cell_type": "code",
   "execution_count": 35,
   "id": "1d0f808a",
   "metadata": {},
   "outputs": [
    {
     "data": {
      "text/plain": [
       "Text(0.5, 0, 'Ratings')"
      ]
     },
     "execution_count": 35,
     "metadata": {},
     "output_type": "execute_result"
    },
    {
     "data": {
      "image/png": "[encoded data removed]",
      "text/plain": [
       "<Figure size 640x480 with 1 Axes>"
      ]
     },
     "metadata": {},
     "output_type": "display_data"
    }
   ],
   "source": [
    "#Create a histogram for movie\n",
    "df.Age.plot.hist(bins=25)\n",
    "plt.title(\"Movie & Rating\")\n",
    "plt.ylabel('MovieID')\n",
    "plt.xlabel('Ratings')"
   ]
  },
  {
   "cell_type": "code",
   "execution_count": 36,
   "id": "898f5827",
   "metadata": {},
   "outputs": [
    {
     "data": {
      "text/plain": [
       "Text(0.5, 0, 'Ratings')"
      ]
     },
     "execution_count": 36,
     "metadata": {},
     "output_type": "execute_result"
    },
    {
     "data": {
      "image/png": "[encoded data removed]",
      "text/plain": [
       "<Figure size 640x480 with 1 Axes>"
      ]
     },
     "metadata": {},
     "output_type": "display_data"
    }
   ],
   "source": [
    "#Create a histogram for age\n",
    "df.Age.plot.hist(bins=25)\n",
    "plt.title(\"Age & Rating\")\n",
    "plt.ylabel('Age')\n",
    "plt.xlabel('Ratings')"
   ]
  },
  {
   "cell_type": "code",
   "execution_count": 37,
   "id": "df4c0725",
   "metadata": {},
   "outputs": [
    {
     "data": {
      "text/plain": [
       "Text(0.5, 0, 'Ratings')"
      ]
     },
     "execution_count": 37,
     "metadata": {},
     "output_type": "execute_result"
    },
    {
     "data": {
      "image/png": "[encoded data removed]",
      "text/plain": [
       "<Figure size 640x480 with 1 Axes>"
      ]
     },
     "metadata": {},
     "output_type": "display_data"
    }
   ],
   "source": [
    "#Create a histogram for occupation\n",
    "df.Age.plot.hist(bins=25)\n",
    "plt.title(\"Occupation & Rating\")\n",
    "plt.ylabel('Occupation')\n",
    "plt.xlabel('Ratings')"
   ]
  },
  {
   "cell_type": "code",
   "execution_count": 38,
   "id": "ecbbc263",
   "metadata": {},
   "outputs": [
    {
     "name": "stderr",
     "output_type": "stream",
     "text": [
      "C:\\ProgramData\\anaconda\\Lib\\site-packages\\sklearn\\linear_model\\_logistic.py:460: ConvergenceWarning: lbfgs failed to converge (status=1):\n",
      "STOP: TOTAL NO. of ITERATIONS REACHED LIMIT.\n",
      "\n",
      "Increase the number of iterations (max_iter) or scale the data as shown in:\n",
      "    https://scikit-learn.org/stable/modules/preprocessing.html\n",
      "Please also refer to the documentation for alternative solver options:\n",
      "    https://scikit-learn.org/stable/modules/linear_model.html#logistic-regression\n",
      "  n_iter_i = _check_optimize_result(\n"
     ]
    },
    {
     "data": {
      "text/plain": [
       "34.93"
      ]
     },
     "execution_count": 38,
     "metadata": {},
     "output_type": "execute_result"
    }
   ],
   "source": [
    "# Logistic Regression\n",
    "from sklearn.linear_model import LogisticRegression\n",
    "\n",
    "logreg = LogisticRegression()\n",
    "logreg.fit(train, train_label)\n",
    "Y_pred = logreg.predict(test)\n",
    "acc_log = round(logreg.score(train, train_label) * 100, 2)\n",
    "acc_log"
   ]
  },
  {
   "cell_type": "code",
   "execution_count": 39,
   "id": "fd887f6b",
   "metadata": {},
   "outputs": [
    {
     "data": {
      "text/plain": [
       "35.22"
      ]
     },
     "execution_count": 39,
     "metadata": {},
     "output_type": "execute_result"
    }
   ],
   "source": [
    "# Support Vector Machine \n",
    "\n",
    "svc = SVC()\n",
    "svc.fit(train, train_label)\n",
    "Y_pred = svc.predict(test)\n",
    "acc_svc = round(svc.score(train, train_label) * 100,2)\n",
    "acc_svc"
   ]
  },
  {
   "cell_type": "code",
   "execution_count": 40,
   "id": "e458e8f1",
   "metadata": {},
   "outputs": [
    {
     "data": {
      "text/plain": [
       "55.22"
      ]
     },
     "execution_count": 40,
     "metadata": {},
     "output_type": "execute_result"
    }
   ],
   "source": [
    "# K Nearest Neighbors Classifier \n",
    "\n",
    "knn = KNeighborsClassifier(n_neighbors = 3)\n",
    "knn.fit(train, train_label)\n",
    "Y_pred = knn.predict(test)\n",
    "acc_knn = round(knn.score(train, train_label) * 100,2)\n",
    "acc_knn"
   ]
  },
  {
   "cell_type": "code",
   "execution_count": 41,
   "id": "b8c7cad3",
   "metadata": {},
   "outputs": [
    {
     "data": {
      "text/plain": [
       "35.22"
      ]
     },
     "execution_count": 41,
     "metadata": {},
     "output_type": "execute_result"
    }
   ],
   "source": [
    "# Gaussian Naive Bayes \n",
    "\n",
    "gaussain = GaussianNB()\n",
    "gaussain.fit(train, train_label)\n",
    "Y_pred = gaussain.predict(test)\n",
    "acc_gaussain = round(gaussain.score(train, train_label) * 100,2)\n",
    "acc_gaussain"
   ]
  },
  {
   "cell_type": "code",
   "execution_count": 42,
   "id": "c55c94a0",
   "metadata": {},
   "outputs": [
    {
     "data": {
      "text/plain": [
       "27.76"
      ]
     },
     "execution_count": 42,
     "metadata": {},
     "output_type": "execute_result"
    }
   ],
   "source": [
    "# Perceptron\n",
    "from sklearn.linear_model import Perceptron\n",
    "\n",
    "perceptron = Perceptron()\n",
    "perceptron.fit(train, train_label)\n",
    "Y_pred = perceptron.predict(test)\n",
    "acc_perceptron = round(perceptron.score(train, train_label) * 100, 2)\n",
    "acc_perceptron\n"
   ]
  },
  {
   "cell_type": "code",
   "execution_count": 43,
   "id": "771ced8a",
   "metadata": {},
   "outputs": [
    {
     "name": "stderr",
     "output_type": "stream",
     "text": [
      "C:\\ProgramData\\anaconda\\Lib\\site-packages\\sklearn\\svm\\_classes.py:32: FutureWarning: The default value of `dual` will change from `True` to `'auto'` in 1.5. Set the value of `dual` explicitly to suppress the warning.\n",
      "  warnings.warn(\n",
      "C:\\ProgramData\\anaconda\\Lib\\site-packages\\sklearn\\svm\\_base.py:1242: ConvergenceWarning: Liblinear failed to converge, increase the number of iterations.\n",
      "  warnings.warn(\n"
     ]
    },
    {
     "data": {
      "text/plain": [
       "35.52"
      ]
     },
     "execution_count": 43,
     "metadata": {},
     "output_type": "execute_result"
    }
   ],
   "source": [
    "# Linear SVC\n",
    "from sklearn.svm import LinearSVC\n",
    "\n",
    "linear_svc = LinearSVC()\n",
    "linear_svc.fit(train, train_label)\n",
    "Y_pred = linear_svc.predict(test)\n",
    "acc_linear_svc = round(linear_svc.score(train, train_label) * 100, 2)\n",
    "acc_linear_svc\n"
   ]
  },
  {
   "cell_type": "code",
   "execution_count": 44,
   "id": "8128ac37",
   "metadata": {},
   "outputs": [
    {
     "data": {
      "text/plain": [
       "23.28"
      ]
     },
     "execution_count": 44,
     "metadata": {},
     "output_type": "execute_result"
    }
   ],
   "source": [
    "#Stochastic Gradient Descent\n",
    "\n",
    "sgd = SGDClassifier()\n",
    "sgd.fit(train, train_label)\n",
    "Y_pred = sgd.predict(test)\n",
    "acc_sgd = round(sgd.score(train, train_label) * 100,2)\n",
    "acc_sgd"
   ]
  },
  {
   "cell_type": "code",
   "execution_count": 45,
   "id": "eea7d9a8",
   "metadata": {},
   "outputs": [
    {
     "data": {
      "text/plain": [
       "99.1"
      ]
     },
     "execution_count": 45,
     "metadata": {},
     "output_type": "execute_result"
    }
   ],
   "source": [
    "# Decision Tree\n",
    "\n",
    "decision_tree = DecisionTreeClassifier()\n",
    "decision_tree.fit(train, train_label)\n",
    "Y_pred = decision_tree.predict(test)\n",
    "acc_decision_tree = round(decision_tree.score(train, train_label) * 100,2)\n",
    "acc_decision_tree"
   ]
  },
  {
   "cell_type": "code",
   "execution_count": 46,
   "id": "b88ee4e9",
   "metadata": {},
   "outputs": [
    {
     "data": {
      "text/plain": [
       "99.1"
      ]
     },
     "execution_count": 46,
     "metadata": {},
     "output_type": "execute_result"
    }
   ],
   "source": [
    "# Random Forest\n",
    "\n",
    "random_forest = RandomForestClassifier(n_estimators=100)\n",
    "random_forest.fit(train, train_label)\n",
    "Y_pred = random_forest.predict(test)\n",
    "random_forest.score(train, train_label)\n",
    "acc_random_forest = round(random_forest.score(train, train_label) * 100, 2)\n",
    "acc_random_forest"
   ]
  },
  {
   "cell_type": "code",
   "execution_count": 48,
   "id": "bcbac855",
   "metadata": {},
   "outputs": [
    {
     "data": {
      "text/html": [
       "<div>\n",
       "<style scoped>\n",
       "    .dataframe tbody tr th:only-of-type {\n",
       "        vertical-align: middle;\n",
       "    }\n",
       "\n",
       "    .dataframe tbody tr th {\n",
       "        vertical-align: top;\n",
       "    }\n",
       "\n",
       "    .dataframe thead th {\n",
       "        text-align: right;\n",
       "    }\n",
       "</style>\n",
       "<table border=\"1\" class=\"dataframe\">\n",
       "  <thead>\n",
       "    <tr style=\"text-align: right;\">\n",
       "      <th></th>\n",
       "      <th>Model</th>\n",
       "      <th>Score</th>\n",
       "    </tr>\n",
       "  </thead>\n",
       "  <tbody>\n",
       "    <tr>\n",
       "      <th>3</th>\n",
       "      <td>Random Forest</td>\n",
       "      <td>99.10</td>\n",
       "    </tr>\n",
       "    <tr>\n",
       "      <th>8</th>\n",
       "      <td>Decision Tree</td>\n",
       "      <td>99.10</td>\n",
       "    </tr>\n",
       "    <tr>\n",
       "      <th>1</th>\n",
       "      <td>KNN</td>\n",
       "      <td>55.22</td>\n",
       "    </tr>\n",
       "    <tr>\n",
       "      <th>7</th>\n",
       "      <td>Linear SVC</td>\n",
       "      <td>35.52</td>\n",
       "    </tr>\n",
       "    <tr>\n",
       "      <th>0</th>\n",
       "      <td>Support Vector Machines</td>\n",
       "      <td>35.22</td>\n",
       "    </tr>\n",
       "    <tr>\n",
       "      <th>4</th>\n",
       "      <td>Navie Bayes</td>\n",
       "      <td>35.22</td>\n",
       "    </tr>\n",
       "    <tr>\n",
       "      <th>2</th>\n",
       "      <td>Logistic Regression</td>\n",
       "      <td>34.93</td>\n",
       "    </tr>\n",
       "    <tr>\n",
       "      <th>5</th>\n",
       "      <td>Preceptron</td>\n",
       "      <td>27.76</td>\n",
       "    </tr>\n",
       "    <tr>\n",
       "      <th>6</th>\n",
       "      <td>Stochastic Gradient Decent</td>\n",
       "      <td>23.28</td>\n",
       "    </tr>\n",
       "  </tbody>\n",
       "</table>\n",
       "</div>"
      ],
      "text/plain": [
       "                        Model  Score\n",
       "3               Random Forest  99.10\n",
       "8               Decision Tree  99.10\n",
       "1                         KNN  55.22\n",
       "7                  Linear SVC  35.52\n",
       "0     Support Vector Machines  35.22\n",
       "4                 Navie Bayes  35.22\n",
       "2         Logistic Regression  34.93\n",
       "5                  Preceptron  27.76\n",
       "6  Stochastic Gradient Decent  23.28"
      ]
     },
     "execution_count": 48,
     "metadata": {},
     "output_type": "execute_result"
    }
   ],
   "source": [
    "models = pd.DataFrame({\n",
    "    'Model': ['Support Vector Machines', 'KNN', 'Logistic Regression',\n",
    "              'Random Forest', 'Navie Bayes', 'Preceptron',\n",
    "              'Stochastic Gradient Decent', 'Linear SVC',\n",
    "              'Decision Tree'],\n",
    "    'Score': [acc_svc, acc_knn, acc_log,\n",
    "              acc_random_forest, acc_gaussain, acc_perceptron,\n",
    "              acc_sgd, acc_linear_svc, acc_decision_tree]})\n",
    "models.sort_values(by='Score', ascending=False)"
   ]
  },
  {
   "cell_type": "markdown",
   "id": "24740af2",
   "metadata": {},
   "source": [
    "# The End"
   ]
  }
 ],
 "metadata": {
  "kernelspec": {
   "display_name": "Python 3 (ipykernel)",
   "language": "python",
   "name": "python3"
  },
  "language_info": {
   "codemirror_mode": {
    "name": "ipython",
    "version": 3
   },
   "file_extension": ".py",
   "mimetype": "text/x-python",
   "name": "python",
   "nbconvert_exporter": "python",
   "pygments_lexer": "ipython3",
   "version": "3.11.4"
  }
 },
 "nbformat": 4,
 "nbformat_minor": 5
}
